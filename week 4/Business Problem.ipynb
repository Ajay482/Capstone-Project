{
 "cells": [
  {
   "cell_type": "markdown",
   "metadata": {},
   "source": [
    "# The Battle of Neighborhoods"
   ]
  },
  {
   "cell_type": "markdown",
   "metadata": {},
   "source": [
    "## Business Problem"
   ]
  },
  {
   "cell_type": "markdown",
   "metadata": {},
   "source": [
    "### Introduction"
   ]
  },
  {
   "cell_type": "markdown",
   "metadata": {},
   "source": [
    "This Project is about Exploring Venues in Neighbourhoods in Hyderabad. This can help people to explore best facilities in their Neighbourhood.\n",
    "\n",
    "People can decide on their own that, which Neighbourhood is best for Restaurants, Motel, Bakery, Cafe... etc.\n",
    "\n",
    "This Project also helps People who are migrating to new Places can decide which Neighbourhood is best to live and which Neighbourhood have best facilities for their use.\n",
    "\n",
    "People can also check Schools, Hospitals... etc, have in their Neighbourhood. According to facilities in Neighbourhood they can know how much a house prices ranges. They can decide best Neighbourhood..\n",
    "\n",
    "People who are trying set up any Restaurants, Motels, Bakery, Cafe.. etc. They can decide in which Neighbourhood is best for such venues and where Peoples goes more i.e, in which Neighbourhood."
   ]
  },
  {
   "cell_type": "markdown",
   "metadata": {},
   "source": [
    "### Problem Statement"
   ]
  },
  {
   "cell_type": "markdown",
   "metadata": {},
   "source": [
    "The main motive of the Project is to know which Neighbourhood is best to open Restaurants, Bakery... etc. People who what to open these can know which Neighbourhood is good. And Which facilities to recommend in that Neighbourhood.\n",
    "\n",
    "- This Problem can be solved by taking data that which Neighbourhood is good according to previous data.\n",
    "- By clustering same facilites in Neighbourhood we can decide the best venues to open."
   ]
  },
  {
   "cell_type": "markdown",
   "metadata": {},
   "source": [
    "### About Location"
   ]
  },
  {
   "cell_type": "markdown",
   "metadata": {},
   "source": [
    "Many historic and heritage sites lie in south central Hyderabad, such as the Charminar, the Mecca Masjid, the Salar Jung Museum, the Nizam Museum, the Telangana High Court, the Falaknuma Palace, Chowmahalla Palace and the traditional retail corridor comprising the Pearl Market, Laad Bazaar and Madina Circle.\n",
    "\n",
    "North of the river are hospitals, colleges, major railway stations and business areas such as Begum Bazaar, Koti, Abids, Sultan Bazar and Moazzam Jahi Market, along with administrative and recreational establishments such as the Reserve Bank of India, the Telangana Secretariat, the India Government Mint, the Telangana Legislature, the Public Gardens, the Nizam Club, the Ravindra Bharathi, the State Museum, the Birla Temple and the Birla Planetarium\n",
    "\n",
    "North of central Hyderabad lie Hussain Sagar, Tank Bund Road, Rani Gunj and the Secunderabad railway station.Most of the city's parks and recreational centres, such as Sanjeevaiah Park, Indira Park, Lumbini Park, NTR Gardens, the Buddha statue and Tankbund Park are located here."
   ]
  },
  {
   "cell_type": "markdown",
   "metadata": {},
   "source": [
    "### Foursquare API"
   ]
  },
  {
   "cell_type": "markdown",
   "metadata": {},
   "source": [
    "The Foursquare Places API provides location based experiences with diverse information about venues, users, photos, and check-ins. The API supports real time access to places, Snap-to-Place that assigns users to specific locations, and Geo-tag.\n",
    "\n",
    "Using credentials of Foursquare API features of near-by places of the neighborhoods would be mined. Due to http request limitations the number of places per neighborhood parameter would reasonably be set to 100 and the radius parameter would be set to 500."
   ]
  },
  {
   "cell_type": "markdown",
   "metadata": {},
   "source": [
    "### Clustering"
   ]
  },
  {
   "cell_type": "markdown",
   "metadata": {},
   "source": [
    "To compare the similarities of two cities, we decided to explore neighborhoods, segment them, and group them into clusters to find best neighborhoods in Hyderabad. To be able to do that, we need to cluster data which is a form of unsupervised machine learning: k-means clustering algorithm"
   ]
  },
  {
   "cell_type": "markdown",
   "metadata": {},
   "source": [
    "### Libraries used for this Project"
   ]
  },
  {
   "cell_type": "markdown",
   "metadata": {},
   "source": [
    "Pandas: For Data manipulation and Analysis. It is used to manipulat data in tables.\n",
    "\n",
    "Nominatim: To find locations by giving Neighbourhood names.\n",
    "\n",
    "Folium: To display map and cluster in Neigbourhood.\n",
    "\n",
    "KMeans: To cluster similar Venues Categories.\n",
    "\n",
    "Matplolib: To Visualize the plot.\n",
    "\n",
    "Beautiful Soup and Requests: To scrap and library to handle http requests."
   ]
  }
 ],
 "metadata": {
  "kernelspec": {
   "display_name": "Python 3",
   "language": "python",
   "name": "python3"
  },
  "language_info": {
   "codemirror_mode": {
    "name": "ipython",
    "version": 3
   },
   "file_extension": ".py",
   "mimetype": "text/x-python",
   "name": "python",
   "nbconvert_exporter": "python",
   "pygments_lexer": "ipython3",
   "version": "3.7.6"
  }
 },
 "nbformat": 4,
 "nbformat_minor": 4
}
